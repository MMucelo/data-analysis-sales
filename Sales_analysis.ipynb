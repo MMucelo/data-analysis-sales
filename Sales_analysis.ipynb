{
  "metadata": {
    "kernelspec": {
      "name": "python",
      "display_name": "Python (Pyodide)",
      "language": "python"
    },
    "language_info": {
      "codemirror_mode": {
        "name": "python",
        "version": 3
      },
      "file_extension": ".py",
      "mimetype": "text/x-python",
      "name": "python",
      "nbconvert_exporter": "python",
      "pygments_lexer": "ipython3",
      "version": "3.8"
    }
  },
  "nbformat_minor": 4,
  "nbformat": 4,
  "cells": [
    {
      "cell_type": "code",
      "source": "# Primeiro vamos importar os libraries que vamos usar.\nimport pandas as pd\nimport matplotlib\nimport matplotlib.pyplot as plt",
      "metadata": {
        "trusted": true
      },
      "outputs": [],
      "execution_count": 3
    },
    {
      "cell_type": "code",
      "source": "df = pd.read_csv('sales_data.csv')",
      "metadata": {
        "trusted": true
      },
      "outputs": [],
      "execution_count": 4
    },
    {
      "cell_type": "code",
      "source": "# Vamos agora visualizar as primeiras linhas do ficheiro das vendas\ndf.head()",
      "metadata": {
        "trusted": true
      },
      "outputs": [
        {
          "execution_count": 5,
          "output_type": "execute_result",
          "data": {
            "text/plain": "   OrderID        Date        Region     Product  Quantity  UnitPrice  \\\n0     1001  2024-04-12  Johannesburg  Impressora         3        300   \n1     1002  2024-01-21         Beira      Tablet         3        250   \n2     1003  2024-04-09       Nampula  Impressora         2        300   \n3     1004  2024-10-20         Beira     Monitor         5        150   \n4     1005  2024-11-09        Harare     Monitor         1        150   \n\n   TotalSales     SalesRep  PaymentMethod  \n0         900  Paulo Costa     Multicaixa  \n1         750  Carla Nunes         Cartão  \n2         600  Paulo Costa         Cartão  \n3         750    Ana Silva         Cartão  \n4         150    Ana Silva  Transferência  ",
            "text/html": "<div>\n<style scoped>\n    .dataframe tbody tr th:only-of-type {\n        vertical-align: middle;\n    }\n\n    .dataframe tbody tr th {\n        vertical-align: top;\n    }\n\n    .dataframe thead th {\n        text-align: right;\n    }\n</style>\n<table border=\"1\" class=\"dataframe\">\n  <thead>\n    <tr style=\"text-align: right;\">\n      <th></th>\n      <th>OrderID</th>\n      <th>Date</th>\n      <th>Region</th>\n      <th>Product</th>\n      <th>Quantity</th>\n      <th>UnitPrice</th>\n      <th>TotalSales</th>\n      <th>SalesRep</th>\n      <th>PaymentMethod</th>\n    </tr>\n  </thead>\n  <tbody>\n    <tr>\n      <th>0</th>\n      <td>1001</td>\n      <td>2024-04-12</td>\n      <td>Johannesburg</td>\n      <td>Impressora</td>\n      <td>3</td>\n      <td>300</td>\n      <td>900</td>\n      <td>Paulo Costa</td>\n      <td>Multicaixa</td>\n    </tr>\n    <tr>\n      <th>1</th>\n      <td>1002</td>\n      <td>2024-01-21</td>\n      <td>Beira</td>\n      <td>Tablet</td>\n      <td>3</td>\n      <td>250</td>\n      <td>750</td>\n      <td>Carla Nunes</td>\n      <td>Cartão</td>\n    </tr>\n    <tr>\n      <th>2</th>\n      <td>1003</td>\n      <td>2024-04-09</td>\n      <td>Nampula</td>\n      <td>Impressora</td>\n      <td>2</td>\n      <td>300</td>\n      <td>600</td>\n      <td>Paulo Costa</td>\n      <td>Cartão</td>\n    </tr>\n    <tr>\n      <th>3</th>\n      <td>1004</td>\n      <td>2024-10-20</td>\n      <td>Beira</td>\n      <td>Monitor</td>\n      <td>5</td>\n      <td>150</td>\n      <td>750</td>\n      <td>Ana Silva</td>\n      <td>Cartão</td>\n    </tr>\n    <tr>\n      <th>4</th>\n      <td>1005</td>\n      <td>2024-11-09</td>\n      <td>Harare</td>\n      <td>Monitor</td>\n      <td>1</td>\n      <td>150</td>\n      <td>150</td>\n      <td>Ana Silva</td>\n      <td>Transferência</td>\n    </tr>\n  </tbody>\n</table>\n</div>"
          },
          "metadata": {}
        }
      ],
      "execution_count": 5
    },
    {
      "cell_type": "code",
      "source": "# Agora vamos verificar as dimensoes do dataset (linhas e colunas)\ndf.shape",
      "metadata": {
        "trusted": true
      },
      "outputs": [
        {
          "execution_count": 6,
          "output_type": "execute_result",
          "data": {
            "text/plain": "(1000, 9)"
          },
          "metadata": {}
        }
      ],
      "execution_count": 6
    },
    {
      "cell_type": "code",
      "source": "# E vamos verificar os tipos de dados de cada coluna\ndf.dtypes",
      "metadata": {
        "trusted": true
      },
      "outputs": [
        {
          "execution_count": 8,
          "output_type": "execute_result",
          "data": {
            "text/plain": "OrderID                   int64\nDate             datetime64[ns]\nRegion                   object\nProduct                  object\nQuantity                  int64\nUnitPrice                 int64\nTotalSales                int64\nSalesRep                 object\nPaymentMethod            object\ndtype: object"
          },
          "metadata": {}
        }
      ],
      "execution_count": 8
    },
    {
      "cell_type": "code",
      "source": "# Vamos Converter a coluna \"Date\" para o tipo datetime\ndf['Date'] = pd.to_datetime(df['Date'], errors='coerce')",
      "metadata": {
        "trusted": true
      },
      "outputs": [],
      "execution_count": 9
    },
    {
      "cell_type": "code",
      "source": "df.dtypes",
      "metadata": {
        "trusted": true
      },
      "outputs": [
        {
          "execution_count": 10,
          "output_type": "execute_result",
          "data": {
            "text/plain": "OrderID                   int64\nDate             datetime64[ns]\nRegion                   object\nProduct                  object\nQuantity                  int64\nUnitPrice                 int64\nTotalSales                int64\nSalesRep                 object\nPaymentMethod            object\ndtype: object"
          },
          "metadata": {}
        }
      ],
      "execution_count": 10
    },
    {
      "cell_type": "code",
      "source": "# Vamos verificar os valores nulos de cada coluna\ndf.isnull().sum()",
      "metadata": {
        "trusted": true
      },
      "outputs": [
        {
          "execution_count": 11,
          "output_type": "execute_result",
          "data": {
            "text/plain": "OrderID          0\nDate             0\nRegion           0\nProduct          0\nQuantity         0\nUnitPrice        0\nTotalSales       0\nSalesRep         0\nPaymentMethod    0\ndtype: int64"
          },
          "metadata": {}
        }
      ],
      "execution_count": 11
    },
    {
      "cell_type": "code",
      "source": "# Antes de mais, vamos extrair ano, mês, dia, dia da semana, etc.\ndf['Ano'] = df['Date'].dt.year\ndf['Mês'] = df['Date'].dt.month\ndf['Dia'] = df['Date'].dt.day\ndf['Dia_da_Semana'] = df['Date'].dt.day_name()\n",
      "metadata": {
        "trusted": true
      },
      "outputs": [],
      "execution_count": 12
    },
    {
      "cell_type": "code",
      "source": "# Vamos visualizar as estatísticas descritivas para colunas numéricas\ndf.describe()",
      "metadata": {
        "trusted": true
      },
      "outputs": [
        {
          "execution_count": 13,
          "output_type": "execute_result",
          "data": {
            "text/plain": "           OrderID                        Date     Quantity    UnitPrice  \\\ncount  1000.000000                        1000  1000.000000  1000.000000   \nmean   1500.500000  2024-07-04 09:30:14.400000     3.001000   376.900000   \nmin    1001.000000         2024-01-01 00:00:00     1.000000   150.000000   \n25%    1250.750000         2024-04-06 00:00:00     2.000000   250.000000   \n50%    1500.500000         2024-07-08 12:00:00     3.000000   300.000000   \n75%    1750.250000         2024-10-02 00:00:00     4.000000   400.000000   \nmax    2000.000000         2024-12-30 00:00:00     5.000000   800.000000   \nstd     288.819436                         NaN     1.412443   224.559161   \n\n        TotalSales     Ano          Mês          Dia  \ncount  1000.000000  1000.0  1000.000000  1000.000000  \nmean   1144.000000  2024.0     6.617000    15.499000  \nmin     150.000000  2024.0     1.000000     1.000000  \n25%     487.500000  2024.0     4.000000     8.000000  \n50%     800.000000  2024.0     7.000000    15.000000  \n75%    1500.000000  2024.0    10.000000    23.000000  \nmax    4000.000000  2024.0    12.000000    31.000000  \nstd     943.986287     0.0     3.422868     8.768288  ",
            "text/html": "<div>\n<style scoped>\n    .dataframe tbody tr th:only-of-type {\n        vertical-align: middle;\n    }\n\n    .dataframe tbody tr th {\n        vertical-align: top;\n    }\n\n    .dataframe thead th {\n        text-align: right;\n    }\n</style>\n<table border=\"1\" class=\"dataframe\">\n  <thead>\n    <tr style=\"text-align: right;\">\n      <th></th>\n      <th>OrderID</th>\n      <th>Date</th>\n      <th>Quantity</th>\n      <th>UnitPrice</th>\n      <th>TotalSales</th>\n      <th>Ano</th>\n      <th>Mês</th>\n      <th>Dia</th>\n    </tr>\n  </thead>\n  <tbody>\n    <tr>\n      <th>count</th>\n      <td>1000.000000</td>\n      <td>1000</td>\n      <td>1000.000000</td>\n      <td>1000.000000</td>\n      <td>1000.000000</td>\n      <td>1000.0</td>\n      <td>1000.000000</td>\n      <td>1000.000000</td>\n    </tr>\n    <tr>\n      <th>mean</th>\n      <td>1500.500000</td>\n      <td>2024-07-04 09:30:14.400000</td>\n      <td>3.001000</td>\n      <td>376.900000</td>\n      <td>1144.000000</td>\n      <td>2024.0</td>\n      <td>6.617000</td>\n      <td>15.499000</td>\n    </tr>\n    <tr>\n      <th>min</th>\n      <td>1001.000000</td>\n      <td>2024-01-01 00:00:00</td>\n      <td>1.000000</td>\n      <td>150.000000</td>\n      <td>150.000000</td>\n      <td>2024.0</td>\n      <td>1.000000</td>\n      <td>1.000000</td>\n    </tr>\n    <tr>\n      <th>25%</th>\n      <td>1250.750000</td>\n      <td>2024-04-06 00:00:00</td>\n      <td>2.000000</td>\n      <td>250.000000</td>\n      <td>487.500000</td>\n      <td>2024.0</td>\n      <td>4.000000</td>\n      <td>8.000000</td>\n    </tr>\n    <tr>\n      <th>50%</th>\n      <td>1500.500000</td>\n      <td>2024-07-08 12:00:00</td>\n      <td>3.000000</td>\n      <td>300.000000</td>\n      <td>800.000000</td>\n      <td>2024.0</td>\n      <td>7.000000</td>\n      <td>15.000000</td>\n    </tr>\n    <tr>\n      <th>75%</th>\n      <td>1750.250000</td>\n      <td>2024-10-02 00:00:00</td>\n      <td>4.000000</td>\n      <td>400.000000</td>\n      <td>1500.000000</td>\n      <td>2024.0</td>\n      <td>10.000000</td>\n      <td>23.000000</td>\n    </tr>\n    <tr>\n      <th>max</th>\n      <td>2000.000000</td>\n      <td>2024-12-30 00:00:00</td>\n      <td>5.000000</td>\n      <td>800.000000</td>\n      <td>4000.000000</td>\n      <td>2024.0</td>\n      <td>12.000000</td>\n      <td>31.000000</td>\n    </tr>\n    <tr>\n      <th>std</th>\n      <td>288.819436</td>\n      <td>NaN</td>\n      <td>1.412443</td>\n      <td>224.559161</td>\n      <td>943.986287</td>\n      <td>0.0</td>\n      <td>3.422868</td>\n      <td>8.768288</td>\n    </tr>\n  </tbody>\n</table>\n</div>"
          },
          "metadata": {}
        }
      ],
      "execution_count": 13
    },
    {
      "cell_type": "code",
      "source": "# Agora vamos verificar as colunas categóricas (que não tem valores numéricos)\ndf.select_dtypes(include='object').describe()",
      "metadata": {
        "trusted": true
      },
      "outputs": [],
      "execution_count": null
    },
    {
      "cell_type": "code",
      "source": "# Para as colunas categóricas, vamos verificar os valores únicos por coluna\nfor col in df.select_dtypes(include='object').columns:\n    print(f\"{col}: {df[col].nunique()} valores únicos\")",
      "metadata": {
        "trusted": true
      },
      "outputs": [],
      "execution_count": null
    },
    {
      "cell_type": "markdown",
      "source": "## Análise da Distribuição de Vendas",
      "metadata": {}
    },
    {
      "cell_type": "code",
      "source": "# Distribuição de Vendas por Produtos\ndf.groupby('Product')['TotalSales'].sum().sort_values(ascending=False).plot(kind='bar')\nplt.title('Vendas por Produto')\nplt.ylabel('Total de Vendas')\nplt.xlabel('Produto')\nplt.xticks(rotation=45)\nplt.tight_layout()\nplt.show()",
      "metadata": {
        "trusted": true
      },
      "outputs": [],
      "execution_count": null
    },
    {
      "cell_type": "code",
      "source": "# Distribuição de Vendas por Região\ndf.groupby('Region')['TotalSales'].sum().sort_values(ascending=False).plot(kind='bar')\nplt.title('Vendas por Região')\nplt.ylabel('Total de Vendas')\nplt.xlabel('Região')\nplt.xticks(rotation=45)\nplt.tight_layout()\nplt.show()",
      "metadata": {
        "trusted": true
      },
      "outputs": [],
      "execution_count": null
    },
    {
      "cell_type": "code",
      "source": "# Distribuição de Vendas por Região\ndf.groupby('Region')['TotalSales'].sum().sort_values(ascending=False).plot(kind='bar')\nplt.title('Vendas por Região')\nplt.ylabel('Total de Vendas')\nplt.xlabel('Região')\nplt.xticks(rotation=45)\nplt.tight_layout()\nplt.show()",
      "metadata": {
        "trusted": true
      },
      "outputs": [],
      "execution_count": null
    },
    {
      "cell_type": "code",
      "source": "# Distribuição de Vendas por Mês\ndf.groupby('Mês')['TotalSales'].sum().plot(kind='line', marker='o')\nplt.title('Vendas por Mês')\nplt.ylabel('Total de Vendas')\nplt.xlabel('Mês')\nplt.grid(True)\nplt.xticks(range(1,13))\nplt.tight_layout()\nplt.show()",
      "metadata": {
        "trusted": true
      },
      "outputs": [],
      "execution_count": null
    },
    {
      "cell_type": "code",
      "source": "# Distribuição de Vendas por Ano\ndf.groupby('Ano')['TotalSales'].sum().plot(kind='bar')\nplt.title('Vendas por Ano')\nplt.ylabel('Total de Vendas')\nplt.xlabel('Ano')\nplt.xticks(rotation=0)\nplt.tight_layout()\nplt.show()",
      "metadata": {
        "trusted": true
      },
      "outputs": [],
      "execution_count": null
    },
    {
      "cell_type": "markdown",
      "source": "## Análise de Produtos Mais Vendidos, Vendedores e Regiões",
      "metadata": {}
    },
    {
      "cell_type": "code",
      "source": "# Produtos mais vendidos (por quantidade)\ndf.groupby('Product')['Quantity'].sum().sort_values(ascending=False).plot(kind='bar')\nplt.title('Produtos Mais Vendidos (Quantidade)')\nplt.ylabel('Quantidade Vendida')\nplt.xlabel('Produto')\nplt.xticks(rotation=45)\nplt.tight_layout()\nplt.show()",
      "metadata": {
        "trusted": true
      },
      "outputs": [],
      "execution_count": null
    },
    {
      "cell_type": "code",
      "source": "# Desempenho por vendedor\ndf.groupby('SalesRep')['TotalSales'].sum().sort_values(ascending=False).plot(kind='bar')\nplt.title('Total de Vendas por Vendedor')\nplt.ylabel('Total de Vendas')\nplt.xlabel('Vendedor')\nplt.xticks(rotation=45)\nplt.tight_layout()\nplt.show()",
      "metadata": {
        "trusted": true
      },
      "outputs": [],
      "execution_count": null
    },
    {
      "cell_type": "markdown",
      "source": "## Distribuição por métodos de pagamento",
      "metadata": {}
    },
    {
      "cell_type": "code",
      "source": "# Distribuição por métodos de pagamento\ndf['PaymentMethod'].value_counts().plot(kind='pie', autopct='%1.1f%%')\nplt.title('Distribuição dos Métodos de Pagamento')\nplt.ylabel('')\nplt.tight_layout()\nplt.show()",
      "metadata": {
        "trusted": true
      },
      "outputs": [],
      "execution_count": null
    },
    {
      "cell_type": "markdown",
      "source": "## Correlações Numéricas (tabela apenas)",
      "metadata": {}
    },
    {
      "cell_type": "code",
      "source": "# Correlação entre variáveis numéricas\ncorrelacoes = df[['Quantity', 'UnitPrice', 'TotalSales']].corr()\nprint(correlacoes)",
      "metadata": {
        "trusted": true
      },
      "outputs": [],
      "execution_count": null
    },
    {
      "cell_type": "markdown",
      "source": "## Análise de Outliers com boxplot do matplotlib",
      "metadata": {}
    },
    {
      "cell_type": "code",
      "source": "# Quantidade \nplt.boxplot(df['Quantity'])\nplt.title('Outliers - Quantity')\nplt.ylabel('Quantidade')\nplt.grid(True)\nplt.show()",
      "metadata": {
        "trusted": true
      },
      "outputs": [],
      "execution_count": null
    },
    {
      "cell_type": "code",
      "source": "# Preço Unitário\nplt.boxplot(df['UnitPrice'])\nplt.title('Outliers - UnitPrice')\nplt.ylabel('Preço Unitário')\nplt.grid(True)\nplt.show()\n",
      "metadata": {
        "trusted": true
      },
      "outputs": [],
      "execution_count": null
    },
    {
      "cell_type": "code",
      "source": "# Total de Vendas\nplt.boxplot(df['TotalSales'])\nplt.title('Outliers - TotalSales')\nplt.ylabel('Total de Vendas')\nplt.grid(True)\nplt.show()\n",
      "metadata": {
        "trusted": true
      },
      "outputs": [],
      "execution_count": null
    },
    {
      "cell_type": "code",
      "source": "import os\n# 1. Criar uma pasta chamada \"graficos\" se não existir\nos.makedirs(\"graficos\", exist_ok=True)\n\n# 2. Gerar gráfico e guardar como imagem\ndf.groupby('Product')['TotalSales'].sum().sort_values(ascending=False).plot(kind='bar')\nplt.title('Vendas por Produto')\nplt.ylabel('Total de Vendas')\nplt.xlabel('Produto')\nplt.xticks(rotation=45)\nplt.tight_layout()\n\n# 3. Guardar o gráfico como imagem PNG\nplt.savefig(\"graficos/vendas_por_produto.png\")\n\n# 4. Exibir (opcional)\nplt.show()\n",
      "metadata": {
        "trusted": true
      },
      "outputs": [],
      "execution_count": null
    },
    {
      "cell_type": "markdown",
      "source": "## Bloco Auxiliar para salvar gráficos",
      "metadata": {}
    },
    {
      "cell_type": "code",
      "source": "# AUXILIAR: Bloco de código para salvar todos os gráficos\n# Grafico guardados em formato .png de alta qualidade\n\nimport os\nimport matplotlib.pyplot as plt\n\n# Criar pasta \"graficos\" se não existir\nos.makedirs(\"graficos\", exist_ok=True)\n\n# Função auxiliar para salvar gráfico\ndef salvar_grafico(nome_arquivo):\n    plt.tight_layout()\n    plt.savefig(f\"graficos/{nome_arquivo}.png\", dpi=150)\n    plt.close()\n\n# 1. Vendas por Produto\ndf.groupby('Product')['TotalSales'].sum().sort_values(ascending=False).plot(kind='bar')\nplt.title('Vendas por Produto')\nplt.ylabel('Total de Vendas')\nplt.xlabel('Produto')\nplt.xticks(rotation=45)\nsalvar_grafico('vendas_por_produto')\n\n# 2. Vendas por Região\ndf.groupby('Region')['TotalSales'].sum().sort_values(ascending=False).plot(kind='bar')\nplt.title('Vendas por Região')\nplt.ylabel('Total de Vendas')\nplt.xlabel('Região')\nplt.xticks(rotation=45)\nsalvar_grafico('vendas_por_regiao')\n\n# 3. Vendas por Mês\ndf.groupby('Mês')['TotalSales'].sum().plot(kind='line', marker='o')\nplt.title('Vendas por Mês')\nplt.ylabel('Total de Vendas')\nplt.xlabel('Mês')\nplt.grid(True)\nplt.xticks(range(1,13))\nsalvar_grafico('vendas_por_mes')\n\n# 4. Vendas por Ano\ndf.groupby('Ano')['TotalSales'].sum().plot(kind='bar')\nplt.title('Vendas por Ano')\nplt.ylabel('Total de Vendas')\nplt.xlabel('Ano')\nplt.xticks(rotation=0)\nsalvar_grafico('vendas_por_ano')\n\n# 5. Produtos Mais Vendidos (Quantidade)\ndf.groupby('Product')['Quantity'].sum().sort_values(ascending=False).plot(kind='bar')\nplt.title('Produtos Mais Vendidos (Quantidade)')\nplt.ylabel('Quantidade Vendida')\nplt.xlabel('Produto')\nplt.xticks(rotation=45)\nsalvar_grafico('produtos_mais_vendidos_quantidade')\n\n# 6. Desempenho por Vendedor\ndf.groupby('SalesRep')['TotalSales'].sum().sort_values(ascending=False).plot(kind='bar')\nplt.title('Total de Vendas por Vendedor')\nplt.ylabel('Total de Vendas')\nplt.xlabel('Vendedor')\nplt.xticks(rotation=45)\nsalvar_grafico('vendas_por_vendedor')\n\n# 7. Métodos de Pagamento\ndf['PaymentMethod'].value_counts().plot(kind='pie', autopct='%1.1f%%')\nplt.title('Distribuição dos Métodos de Pagamento')\nplt.ylabel('')\nsalvar_grafico('metodos_de_pagamento')\n\n# 8. Outliers - Quantity\nplt.boxplot(df['Quantity'])\nplt.title('Outliers - Quantity')\nplt.ylabel('Quantidade')\nplt.grid(True)\nsalvar_grafico('outliers_quantity')\n\n# 9. Outliers - UnitPrice\nplt.boxplot(df['UnitPrice'])\nplt.title('Outliers - UnitPrice')\nplt.ylabel('Preço Unitário')\nplt.grid(True)\nsalvar_grafico('outliers_unitprice')\n\n# 10. Outliers - TotalSales\nplt.boxplot(df['TotalSales'])\nplt.title('Outliers - TotalSales')\nplt.ylabel('Total de Vendas')\nplt.grid(True)\nsalvar_grafico('outliers_totalsales')\n",
      "metadata": {
        "trusted": true
      },
      "outputs": [],
      "execution_count": null
    },
    {
      "cell_type": "code",
      "source": "# Salvar como CSV\ndf.to_csv(\"sales_data_final.csv\", index=False)\nprint(\"Dataset 'sales_data_final.csv' gerado com sucesso!\")",
      "metadata": {
        "trusted": true
      },
      "outputs": [
        {
          "name": "stdout",
          "text": "Dataset 'sales_data_final.csv' gerado com sucesso!\n",
          "output_type": "stream"
        }
      ],
      "execution_count": 14
    },
    {
      "cell_type": "code",
      "source": "",
      "metadata": {
        "trusted": true
      },
      "outputs": [],
      "execution_count": null
    }
  ]
}